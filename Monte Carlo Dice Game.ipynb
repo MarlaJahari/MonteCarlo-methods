{
 "cells": [
  {
   "cell_type": "code",
   "execution_count": null,
   "id": "c6e0e4b8",
   "metadata": {},
   "outputs": [],
   "source": [
    "import matplotlib.pyplot as plt\n",
    "import random\n",
    "z=int(input(\"Your bet money\"))\n",
    "count=int(input(\"The money you have in hand\"))\n",
    "sim=int(input(\"No: of simulations:\"))\n",
    "\n",
    "end_balance=[]\n",
    "prob=[]\n",
    "def win():\n",
    "    a=random.randint(1,6)\n",
    "    b=random.randint(1,6)\n",
    "    if(a==b):\n",
    "     return True\n",
    "    else:\n",
    "     return False\n",
    "plt.title(\"Monte carlo sims\")\n",
    "plt.xlabel(\"Nuber of rolls\")\n",
    "plt.ylabel(\"Money left\")\n",
    "plt.xlim([0,count])\n",
    "for i in range(sim):\n",
    "    num_roll=[0]\n",
    "    num_win=0\n",
    "    balance=[1000]\n",
    "    while(num_roll[-1]<=count):\n",
    "     o=win()\n",
    "     if o:\n",
    "        balance.append(balance[-1] + 4*z)\n",
    "        num_win+=1\n",
    "     else:\n",
    "        balance.append(balance[-1] -z)\n",
    "     num_roll.append(num_roll[-1]+1)\n",
    "    end_balance.append(balance[-1])\n",
    "    prob.append(num_win/num_roll[-1])\n",
    "    plt.plot(num_roll,balance)\n",
    "plt.show()    \n",
    "r=sum(end_balance)/len(end_balance)\n",
    "w=sum(prob)/len(prob)\n",
    "print(\"avg balance: $\"+str(r))        \n",
    "print(\"avg win:\"+str(w))    \n",
    "if(w*100<=50):\n",
    "    print(\"Game is not fair, you'll most likely lose\")\n",
    " \n"
   ]
  }
 ],
 "metadata": {
  "kernelspec": {
   "display_name": "Python 3 (ipykernel)",
   "language": "python",
   "name": "python3"
  },
  "language_info": {
   "codemirror_mode": {
    "name": "ipython",
    "version": 3
   },
   "file_extension": ".py",
   "mimetype": "text/x-python",
   "name": "python",
   "nbconvert_exporter": "python",
   "pygments_lexer": "ipython3",
   "version": "3.9.15"
  }
 },
 "nbformat": 4,
 "nbformat_minor": 5
}
