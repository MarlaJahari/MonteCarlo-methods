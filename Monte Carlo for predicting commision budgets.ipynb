{
 "cells": [
  {
   "cell_type": "code",
   "execution_count": 39,
   "id": "fff0fe3f",
   "metadata": {},
   "outputs": [
    {
     "data": {
      "text/plain": [
       "<AxesSubplot:title={'center':'SALES'}, ylabel='Frequency'>"
      ]
     },
     "execution_count": 39,
     "metadata": {},
     "output_type": "execute_result"
    },
    {
     "data": {
      "image/png": "[encoded data removed]",
      "text/plain": [
       "<Figure size 640x480 with 1 Axes>"
      ]
     },
     "metadata": {},
     "output_type": "display_data"
    }
   ],
   "source": [
    "import pandas as pd\n",
    "import numpy as np\n",
    "import seaborn as sns\n",
    "avg=1\n",
    "sd=0.1\n",
    "no=500\n",
    "n=1000\n",
    "ptt=np.random.normal(avg,sd,no)\n",
    "def cr(x):\n",
    "    if x<=0.9:\n",
    "        return 0.2\n",
    "    elif x<=0.99:\n",
    "        return 0.3\n",
    "    else:\n",
    "        return 0.4\n",
    "        \n",
    "#for numpys random choice weve to assign probabilities for each values in an array and no: of samples required second\n",
    "stv=[75_000,100_000,150_000,200_000,250_000, 300_000] \n",
    "prob=[0.5,0.2,0.1,0.1,0.05,0.05]\n",
    "st=np.random.choice(stv,no,p=prob)\n",
    "df=pd.DataFrame(index=range(no),data={'Actual pt to target':ptt,'sales target':st})\n",
    "df.head()\n",
    "df['Actual pt to target'].plot(kind='hist', title='Historical % to Target Distribution')\n",
    "df['sales target'].plot(kind='hist', title='Historical Sales Target Distribution')\n",
    "#df[] to add more columns\n",
    "df['sales']=(df['Actual pt to target']*df['sales target']).round(2)\n",
    "df['Commision rate']=df['Actual pt to target'].apply(cr)\n",
    "\n",
    "df['Commision']=df['sales']*df['Commision rate']\n",
    "\n",
    "df.head()\n",
    "df.describe()\n",
    "allstars=[]\n",
    "for i in range(n):\n",
    " ptt=np.random.normal(avg,sd,no) \n",
    " st=np.random.choice(stv,no,p=prob)\n",
    " df=pd.DataFrame(index=range(no),data={'Actual pt to target':ptt,'sales target':st})\n",
    " df['sales']=(df['Actual pt to target']*df['sales target']).round(2)\n",
    " df['Commision rate']=df['Actual pt to target'].apply(cr)\n",
    " df['Commision']=df['sales']*df['Commision rate']\n",
    " allstars.append([df['sales'].sum().round(1),df['Commision'].sum().round(1),df['sales target'].sum().round(1)])  \n",
    "res=pd.DataFrame.from_records(allstars,columns=['Sales','Commision Amount','Sales Target'])\n",
    "res.describe().round(0).style.format('{:,}')\n",
    "#res['Commision Amount'].plot(kind='hist',title=\"Tot commision amt\")\n",
    "res['Sales'].plot(kind='hist',title=\"SALES\")\n",
    "\n"
   ]
  },
  {
   "cell_type": "code",
   "execution_count": null,
   "id": "5f0a3454",
   "metadata": {},
   "outputs": [],
   "source": []
  },
  {
   "cell_type": "code",
   "execution_count": null,
   "id": "7b15de4d",
   "metadata": {},
   "outputs": [],
   "source": []
  }
 ],
 "metadata": {
  "kernelspec": {
   "display_name": "Python 3 (ipykernel)",
   "language": "python",
   "name": "python3"
  },
  "language_info": {
   "codemirror_mode": {
    "name": "ipython",
    "version": 3
   },
   "file_extension": ".py",
   "mimetype": "text/x-python",
   "name": "python",
   "nbconvert_exporter": "python",
   "pygments_lexer": "ipython3",
   "version": "3.9.15"
  }
 },
 "nbformat": 4,
 "nbformat_minor": 5
}
